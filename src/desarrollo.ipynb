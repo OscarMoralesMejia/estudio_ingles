{
 "cells": [
  {
   "cell_type": "code",
   "execution_count": null,
   "metadata": {},
   "outputs": [],
   "source": [
    "#versión 1 obtener datos de un archivo y mostrarlos en aplicación de escritorio\n",
    "#de forma aleatoria mostrar un verbo en presente simple y el usuario tiene que escribir el verbo en pasado y pasado participio\n",
    "#si es correcto se van sumando los aciertos sino es correcto se suman los errores tanto para pasado y pasado participio\n",
    "\n",
    "#subir datos a una bd a partir de un archivo csv desde python y después c"
   ]
  },
  {
   "cell_type": "code",
   "execution_count": null,
   "metadata": {},
   "outputs": [],
   "source": [
    "import pandas as pd"
   ]
  },
  {
   "cell_type": "code",
   "execution_count": null,
   "metadata": {},
   "outputs": [],
   "source": [
    "\n",
    "# Cargar solo las columnas necesarias y especificar los tipos de datos para reducir el uso de memoria\n",
    "dtypes = {'col1': 'int32', 'col2': 'float32', 'col3': 'category'}  # Define tipos de datos\n",
    "usecols = ['col1', 'col2', 'col3']  # Cargar solo las columnas que necesitas\n",
    "\n",
    "# Cargar el CSV de forma eficiente\n",
    "df = pd.read_csv('archivo.csv', dtype=dtypes, usecols=usecols)"
   ]
  }
 ],
 "metadata": {
  "kernelspec": {
   "display_name": ".venv",
   "language": "python",
   "name": "python3"
  },
  "language_info": {
   "name": "python",
   "version": "3.10.0"
  }
 },
 "nbformat": 4,
 "nbformat_minor": 2
}
