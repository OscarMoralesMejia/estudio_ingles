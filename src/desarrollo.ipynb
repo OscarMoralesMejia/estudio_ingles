{
 "cells": [
  {
   "cell_type": "code",
   "execution_count": null,
   "metadata": {},
   "outputs": [],
   "source": [
    "#versión 1 obtener datos de un archivo y mostrarlos en aplicación de escritorio\n",
    "#de forma aleatoria mostrar un verbo en presente simple y el usuario tiene que escribir el verbo en pasado y pasado participio\n",
    "#si es correcto se van sumando los aciertos sino es correcto se suman los errores tanto para pasado y pasado participio\n",
    "\n",
    "#subir datos a una bd a partir de un archivo csv desde python y después c"
   ]
  },
  {
   "cell_type": "code",
   "execution_count": 1,
   "metadata": {},
   "outputs": [],
   "source": [
    "import pandas as pd"
   ]
  },
  {
   "cell_type": "code",
   "execution_count": 9,
   "metadata": {},
   "outputs": [],
   "source": [
    "\n",
    "# Cargar solo las columnas necesarias y especificar los tipos de datos para reducir el uso de memoria\n",
    "dtypes = {'verbo': 'string', 'pasado': 'string', 'pasado_participio': 'string','traduccion':'string'}  # Define tipos de datos\n",
    "usecols = ['verbo', 'pasado', 'pasado_participio','traduccion']  # Cargar solo las columnas que necesitas\n",
    "\n",
    "# Cargar el CSV de forma eficiente\n",
    "df = pd.read_csv('../data/verbos_1sec.csv', dtype=dtypes, usecols=usecols,encoding='iso-8859-1')"
   ]
  },
  {
   "cell_type": "code",
   "execution_count": 4,
   "metadata": {},
   "outputs": [
    {
     "data": {
      "text/html": [
       "<div>\n",
       "<style scoped>\n",
       "    .dataframe tbody tr th:only-of-type {\n",
       "        vertical-align: middle;\n",
       "    }\n",
       "\n",
       "    .dataframe tbody tr th {\n",
       "        vertical-align: top;\n",
       "    }\n",
       "\n",
       "    .dataframe thead th {\n",
       "        text-align: right;\n",
       "    }\n",
       "</style>\n",
       "<table border=\"1\" class=\"dataframe\">\n",
       "  <thead>\n",
       "    <tr style=\"text-align: right;\">\n",
       "      <th></th>\n",
       "      <th>verbo</th>\n",
       "      <th>pasado</th>\n",
       "      <th>pasado_participio</th>\n",
       "      <th>traduccion</th>\n",
       "    </tr>\n",
       "  </thead>\n",
       "  <tbody>\n",
       "    <tr>\n",
       "      <th>0</th>\n",
       "      <td>arise</td>\n",
       "      <td>arose</td>\n",
       "      <td>arisen</td>\n",
       "      <td>levantarse</td>\n",
       "    </tr>\n",
       "    <tr>\n",
       "      <th>1</th>\n",
       "      <td>be</td>\n",
       "      <td>was/were</td>\n",
       "      <td>been</td>\n",
       "      <td>ser o estar</td>\n",
       "    </tr>\n",
       "  </tbody>\n",
       "</table>\n",
       "</div>"
      ],
      "text/plain": [
       "   verbo    pasado pasado_participio   traduccion\n",
       "0  arise     arose            arisen   levantarse\n",
       "1     be  was/were              been  ser o estar"
      ]
     },
     "execution_count": 4,
     "metadata": {},
     "output_type": "execute_result"
    }
   ],
   "source": [
    "df.head(2)"
   ]
  },
  {
   "cell_type": "code",
   "execution_count": 3,
   "metadata": {},
   "outputs": [],
   "source": [
    "import tkinter as tk\n",
    "from tkinter import ttk\n",
    "from tkinter import messagebox"
   ]
  },
  {
   "cell_type": "code",
   "execution_count": null,
   "metadata": {},
   "outputs": [],
   "source": [
    "\n",
    "\n",
    "\n",
    "# Definir los encabezados de la tabla\n",
    "#columnas = (\"verbo\", \"pasado\", \"participio\", \"traduccion\")\n",
    "\n",
    "# Crear la ventana principal de Tkinter\n",
    "root = tk.Tk()\n",
    "root.title(\"Tabla de Verbos\")\n",
    "\n",
    "# Crear el widget Treeview para mostrar la tabla\n",
    "tree = ttk.Treeview(root)\n",
    "tree[\"columns\"] = list(df.columns)\n",
    "tree[\"show\"] = \"headings\"  # Esconde la primera columna vacía\n",
    "\n",
    "# Configurar las cabeceras de las columnas\n",
    "for col in df.columns:\n",
    "    tree.heading(col, text=col)\n",
    "    tree.column(col, anchor=\"center\")\n",
    "\n",
    "# Agregar los datos del DataFrame a la tabla\n",
    "for _, row in df.iterrows():\n",
    "    tree.insert(\"\", \"end\", values=list(row))\n",
    "\n",
    "# Empacar el Treeview en la ventana\n",
    "tree.pack(expand=True, fill=\"both\")\n",
    "\n",
    "# Ejecutar el bucle principal de Tkinter\n",
    "root.mainloop()\n"
   ]
  },
  {
   "cell_type": "code",
   "execution_count": 5,
   "metadata": {},
   "outputs": [],
   "source": [
    "# Seleccionar un verbo aleatorio\n",
    "def get_random_verb():\n",
    "    random_verb = df.sample().iloc[0]\n",
    "    return random_verb['verbo'], random_verb['pasado'], random_verb['pasado_participio']\n",
    "#verbo,pasado,pasado_participio"
   ]
  },
  {
   "cell_type": "code",
   "execution_count": 15,
   "metadata": {},
   "outputs": [],
   "source": [
    "# Función para validar las respuestas del usuario\n",
    "def validate_answers():\n",
    "    user_past = entry_past.get().strip().lower()\n",
    "    user_participle = entry_participle.get().strip().lower()\n",
    "    \n",
    "    if user_past == current_past.lower() and user_participle == current_participle.lower():\n",
    "        messagebox.showinfo(\"Resultado\", \"¡Correcto! ya puedes jugar en la computadora 🎉\")\n",
    "    else:\n",
    "        messagebox.showerror(\"Resultado\", \n",
    "                             f\"Incorrecto. Respuestas correctas:\\nPasado: {current_past}\\nPasado participio: {current_participle}\")\n"
   ]
  },
  {
   "cell_type": "code",
   "execution_count": 7,
   "metadata": {},
   "outputs": [],
   "source": [
    "# Función para mostrar un nuevo verbo\n",
    "def new_verb():\n",
    "    global current_present, current_past, current_participle\n",
    "    current_present, current_past, current_participle = get_random_verb()\n",
    "    label_present.config(text=f\"Verbo en presente: {current_present}\")\n",
    "    entry_past.delete(0, tk.END)\n",
    "    entry_participle.delete(0, tk.END)"
   ]
  },
  {
   "cell_type": "code",
   "execution_count": 14,
   "metadata": {},
   "outputs": [
    {
     "ename": "KeyboardInterrupt",
     "evalue": "",
     "output_type": "error",
     "traceback": [
      "\u001b[1;31m---------------------------------------------------------------------------\u001b[0m",
      "\u001b[1;31mKeyboardInterrupt\u001b[0m                         Traceback (most recent call last)",
      "Cell \u001b[1;32mIn[14], line 35\u001b[0m\n\u001b[0;32m     32\u001b[0m new_verb_button\u001b[38;5;241m.\u001b[39mpack(pady\u001b[38;5;241m=\u001b[39m\u001b[38;5;241m10\u001b[39m)\n\u001b[0;32m     34\u001b[0m \u001b[38;5;66;03m# Ejecutar la ventana\u001b[39;00m\n\u001b[1;32m---> 35\u001b[0m \u001b[43mroot\u001b[49m\u001b[38;5;241;43m.\u001b[39;49m\u001b[43mmainloop\u001b[49m\u001b[43m(\u001b[49m\u001b[43m)\u001b[49m\n",
      "File \u001b[1;32m~\\AppData\\Local\\Programs\\Python\\Python310\\lib\\tkinter\\__init__.py:1458\u001b[0m, in \u001b[0;36mMisc.mainloop\u001b[1;34m(self, n)\u001b[0m\n\u001b[0;32m   1456\u001b[0m \u001b[38;5;28;01mdef\u001b[39;00m \u001b[38;5;21mmainloop\u001b[39m(\u001b[38;5;28mself\u001b[39m, n\u001b[38;5;241m=\u001b[39m\u001b[38;5;241m0\u001b[39m):\n\u001b[0;32m   1457\u001b[0m \u001b[38;5;250m    \u001b[39m\u001b[38;5;124;03m\"\"\"Call the mainloop of Tk.\"\"\"\u001b[39;00m\n\u001b[1;32m-> 1458\u001b[0m     \u001b[38;5;28;43mself\u001b[39;49m\u001b[38;5;241;43m.\u001b[39;49m\u001b[43mtk\u001b[49m\u001b[38;5;241;43m.\u001b[39;49m\u001b[43mmainloop\u001b[49m\u001b[43m(\u001b[49m\u001b[43mn\u001b[49m\u001b[43m)\u001b[49m\n",
      "\u001b[1;31mKeyboardInterrupt\u001b[0m: "
     ]
    }
   ],
   "source": [
    "# Configuración de la ventana de Tkinter\n",
    "root = tk.Tk()\n",
    "root.title(\"Práctica de aburrimiento\")\n",
    "\n",
    "# Variables globales para almacenar el verbo actual\n",
    "current_present, current_past, current_participle = get_random_verb()\n",
    "\n",
    "# Etiqueta para mostrar el verbo en presente\n",
    "label_present = tk.Label(root, text=f\"Verbo en presente: {current_present}\", font=(\"Arial\", 14))\n",
    "label_present.pack(pady=10)\n",
    "\n",
    "# Entrada para el pasado\n",
    "frame_past = tk.Frame(root)\n",
    "frame_past.pack(pady=5)\n",
    "tk.Label(frame_past, text=\"Pasado:\").pack(side=tk.LEFT)\n",
    "entry_past = tk.Entry(frame_past)\n",
    "entry_past.pack(side=tk.LEFT)\n",
    "\n",
    "# Entrada para el pasado participio\n",
    "frame_participle = tk.Frame(root)\n",
    "frame_participle.pack(pady=5)\n",
    "tk.Label(frame_participle, text=\"Pasado participio:\").pack(side=tk.LEFT)\n",
    "entry_participle = tk.Entry(frame_participle)\n",
    "entry_participle.pack(side=tk.LEFT)\n",
    "\n",
    "# Botón para validar las respuestas\n",
    "validate_button = tk.Button(root, text=\"Validar\", command=validate_answers, bg=\"lightblue\")\n",
    "validate_button.pack(pady=10)\n",
    "\n",
    "# Botón para mostrar un nuevo verbo\n",
    "new_verb_button = tk.Button(root, text=\"Nuevo Verbo\", command=new_verb, bg=\"lightgreen\")\n",
    "new_verb_button.pack(pady=10)\n",
    "\n",
    "# Ejecutar la ventana\n",
    "root.mainloop()"
   ]
  }
 ],
 "metadata": {
  "kernelspec": {
   "display_name": ".venv",
   "language": "python",
   "name": "python3"
  },
  "language_info": {
   "codemirror_mode": {
    "name": "ipython",
    "version": 3
   },
   "file_extension": ".py",
   "mimetype": "text/x-python",
   "name": "python",
   "nbconvert_exporter": "python",
   "pygments_lexer": "ipython3",
   "version": "3.10.0"
  }
 },
 "nbformat": 4,
 "nbformat_minor": 2
}
