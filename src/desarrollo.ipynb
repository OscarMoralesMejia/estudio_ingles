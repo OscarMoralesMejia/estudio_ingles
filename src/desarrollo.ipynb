{
 "cells": [
  {
   "cell_type": "code",
   "execution_count": null,
   "metadata": {},
   "outputs": [],
   "source": [
    "#versión 1 obtener datos de un archivo y mostrarlos en aplicación de escritorio\n",
    "#de forma aleatoria mostrar un verbo en presente simple y el usuario tiene que escribir el verbo en pasado y pasado participio\n",
    "#si es correcto se van sumando los aciertos sino es correcto se suman los errores tanto para pasado y pasado participio\n",
    "\n",
    "#subir datos a una bd a partir de un archivo csv desde python y después c"
   ]
  },
  {
   "cell_type": "code",
   "execution_count": 1,
   "metadata": {},
   "outputs": [],
   "source": [
    "import pandas as pd"
   ]
  },
  {
   "cell_type": "code",
   "execution_count": 7,
   "metadata": {},
   "outputs": [],
   "source": [
    "\n",
    "# Cargar solo las columnas necesarias y especificar los tipos de datos para reducir el uso de memoria\n",
    "dtypes = {'verbo': 'string', 'pasado': 'string', 'participio': 'string','traduccion':'string'}  # Define tipos de datos\n",
    "usecols = ['verbo', 'pasado', 'participio','traduccion']  # Cargar solo las columnas que necesitas\n",
    "\n",
    "# Cargar el CSV de forma eficiente\n",
    "df = pd.read_csv('../data/verbos.csv', dtype=dtypes, usecols=usecols,encoding='iso-8859-1')"
   ]
  },
  {
   "cell_type": "code",
   "execution_count": 8,
   "metadata": {},
   "outputs": [
    {
     "data": {
      "text/html": [
       "<div>\n",
       "<style scoped>\n",
       "    .dataframe tbody tr th:only-of-type {\n",
       "        vertical-align: middle;\n",
       "    }\n",
       "\n",
       "    .dataframe tbody tr th {\n",
       "        vertical-align: top;\n",
       "    }\n",
       "\n",
       "    .dataframe thead th {\n",
       "        text-align: right;\n",
       "    }\n",
       "</style>\n",
       "<table border=\"1\" class=\"dataframe\">\n",
       "  <thead>\n",
       "    <tr style=\"text-align: right;\">\n",
       "      <th></th>\n",
       "      <th>verbo</th>\n",
       "      <th>pasado</th>\n",
       "      <th>participio</th>\n",
       "      <th>traduccion</th>\n",
       "    </tr>\n",
       "  </thead>\n",
       "  <tbody>\n",
       "    <tr>\n",
       "      <th>0</th>\n",
       "      <td>arise</td>\n",
       "      <td>arose</td>\n",
       "      <td>arisen</td>\n",
       "      <td>levantarse</td>\n",
       "    </tr>\n",
       "    <tr>\n",
       "      <th>1</th>\n",
       "      <td>be</td>\n",
       "      <td>was/were</td>\n",
       "      <td>been</td>\n",
       "      <td>ser o estar</td>\n",
       "    </tr>\n",
       "  </tbody>\n",
       "</table>\n",
       "</div>"
      ],
      "text/plain": [
       "   verbo    pasado participio   traduccion\n",
       "0  arise     arose     arisen   levantarse\n",
       "1     be  was/were       been  ser o estar"
      ]
     },
     "execution_count": 8,
     "metadata": {},
     "output_type": "execute_result"
    }
   ],
   "source": [
    "df.head(2)"
   ]
  },
  {
   "cell_type": "code",
   "execution_count": 9,
   "metadata": {},
   "outputs": [],
   "source": [
    "import tkinter as tk\n",
    "from tkinter import ttk"
   ]
  },
  {
   "cell_type": "code",
   "execution_count": 10,
   "metadata": {},
   "outputs": [],
   "source": [
    "\n",
    "\n",
    "\n",
    "# Definir los encabezados de la tabla\n",
    "#columnas = (\"verbo\", \"pasado\", \"participio\", \"traduccion\")\n",
    "\n",
    "# Crear la ventana principal de Tkinter\n",
    "root = tk.Tk()\n",
    "root.title(\"Tabla de Datos\")\n",
    "\n",
    "# Crear el widget Treeview para mostrar la tabla\n",
    "tree = ttk.Treeview(root)\n",
    "tree[\"columns\"] = list(df.columns)\n",
    "tree[\"show\"] = \"headings\"  # Esconde la primera columna vacía\n",
    "\n",
    "# Configurar las cabeceras de las columnas\n",
    "for col in df.columns:\n",
    "    tree.heading(col, text=col)\n",
    "    tree.column(col, anchor=\"center\")\n",
    "\n",
    "# Agregar los datos del DataFrame a la tabla\n",
    "for _, row in df.iterrows():\n",
    "    tree.insert(\"\", \"end\", values=list(row))\n",
    "\n",
    "# Empacar el Treeview en la ventana\n",
    "tree.pack(expand=True, fill=\"both\")\n",
    "\n",
    "# Ejecutar el bucle principal de Tkinter\n",
    "root.mainloop()\n"
   ]
  }
 ],
 "metadata": {
  "kernelspec": {
   "display_name": ".venv",
   "language": "python",
   "name": "python3"
  },
  "language_info": {
   "codemirror_mode": {
    "name": "ipython",
    "version": 3
   },
   "file_extension": ".py",
   "mimetype": "text/x-python",
   "name": "python",
   "nbconvert_exporter": "python",
   "pygments_lexer": "ipython3",
   "version": "3.10.0"
  }
 },
 "nbformat": 4,
 "nbformat_minor": 2
}
